{
 "cells": [
  {
   "cell_type": "code",
   "execution_count": 9,
   "metadata": {},
   "outputs": [
    {
     "data": {
      "text/plain": [
       "[{'id': '1',\n",
       "  'text': 'Kate Brown Governor of Oregon isnt doing her job She must clear out and in some cases arrest the Anarchists and Agitators in Portland If she cant do it the Federal Government will do it for her We will not be leaving until there is safety',\n",
       "  'language': 'en',\n",
       "  'topicSentiments': [],\n",
       "  'sentiments': [{'start': 11,\n",
       "    'end': 12,\n",
       "    'text': 'clear',\n",
       "    'positive': True,\n",
       "    'scale': 1.0,\n",
       "    'category': '',\n",
       "    'parentCategory': ''}],\n",
       "  'topics': []}]"
      ]
     },
     "execution_count": 9,
     "metadata": {},
     "output_type": "execute_result"
    }
   ],
   "source": [
    "import requests\n",
    "\n",
    "url = \"https://text-analytics-by-symanto.p.rapidapi.com/topic-sentiment\"\n",
    "\n",
    "querystring = {\"domain\":\"Ecom\"}\n",
    "\n",
    "payload = \"[ {  \\\"id\\\": \\\"1\\\",  \\\"language\\\": \\\"en\\\",  \\\"text\\\": \\\"Kate Brown Governor of Oregon isnt doing her job She must clear out and in some cases arrest the Anarchists and Agitators in Portland If she cant do it the Federal Government will do it for her We will not be leaving until there is safety\\\" }]\"\n",
    "headers = {\n",
    "    'x-rapidapi-host': \"text-analytics-by-symanto.p.rapidapi.com\",\n",
    "    'x-rapidapi-key': \"bccc148a26mshbbbc1554e138225p17b074jsn4b040dfee026\",\n",
    "    'content-type': \"application/json\",\n",
    "    'accept': \"application/json\"\n",
    "    }\n",
    "\n",
    "response = requests.request(\"POST\", url, data=payload, headers=headers, params=querystring)\n",
    "\n",
    "response.json()"
   ]
  },
  {
   "cell_type": "code",
   "execution_count": null,
   "metadata": {},
   "outputs": [],
   "source": []
  }
 ],
 "metadata": {
  "kernelspec": {
   "display_name": "Python 3",
   "language": "python",
   "name": "python3"
  },
  "language_info": {
   "codemirror_mode": {
    "name": "ipython",
    "version": 3
   },
   "file_extension": ".py",
   "mimetype": "text/x-python",
   "name": "python",
   "nbconvert_exporter": "python",
   "pygments_lexer": "ipython3",
   "version": "3.7.6"
  }
 },
 "nbformat": 4,
 "nbformat_minor": 4
}
